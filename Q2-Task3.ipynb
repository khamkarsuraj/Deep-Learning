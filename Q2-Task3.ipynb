{
 "cells": [
  {
   "cell_type": "code",
   "execution_count": 1,
   "id": "1d133a72",
   "metadata": {},
   "outputs": [
    {
     "name": "stderr",
     "output_type": "stream",
     "text": [
      "2023-02-11 19:07:24.280378: I tensorflow/core/platform/cpu_feature_guard.cc:193] This TensorFlow binary is optimized with oneAPI Deep Neural Network Library (oneDNN) to use the following CPU instructions in performance-critical operations:  SSE4.1 SSE4.2\n",
      "To enable them in other operations, rebuild TensorFlow with the appropriate compiler flags.\n"
     ]
    }
   ],
   "source": [
    "import tensorflow as tf\n",
    "import numpy as np\n",
    "import torch\n",
    "import torchvision as tv\n",
    "from torchvision import transforms, datasets\n",
    "import torch.nn as nn\n",
    "import torch.nn.functional as F\n",
    "import torch.optim as optim\n",
    "import matplotlib.pyplot as plt\n",
    "%matplotlib inline"
   ]
  },
  {
   "cell_type": "code",
   "execution_count": 2,
   "id": "1ff30450",
   "metadata": {},
   "outputs": [],
   "source": [
    "# Create random data between (-10, 10) and determine groundtruth\n",
    "simIn = 20 * torch.rand((1000, 1)) - 10\n",
    "groundTruth = np.cos(simIn)"
   ]
  },
  {
   "cell_type": "code",
   "execution_count": 3,
   "id": "c9eca80d",
   "metadata": {},
   "outputs": [],
   "source": [
    "# Calculate the number of parameters in a neural network\n",
    "def calculate_parameters(inputModel):\n",
    "    v = sum(params.numel() for params in inputModel.parameters() if params.requires_grad)\n",
    "    return v"
   ]
  },
  {
   "cell_type": "code",
   "execution_count": 4,
   "id": "1f0f1633",
   "metadata": {},
   "outputs": [],
   "source": [
    "# Set up NN for cos(x) training - 2 Hidden Layers, 32 parameters - Shallow Network\n",
    "class NNOptimize(nn.Module):\n",
    "    def __init__(self):\n",
    "        super().__init__()\n",
    "        self.fc1 = nn.Linear(1, 3)\n",
    "        self.fc2 = nn.Linear(3, 5)\n",
    "        self.fc3 = nn.Linear(5, 1)\n",
    "\n",
    "    def forward(self, v):\n",
    "        v = F.relu(self.fc1(v))\n",
    "        v = F.relu(self.fc2(v))\n",
    "        v = self.fc3(v)\n",
    "        return v"
   ]
  },
  {
   "cell_type": "code",
   "execution_count": 5,
   "id": "a7e0846b",
   "metadata": {},
   "outputs": [],
   "source": [
    "# Set up necessary auxilaries for neural net training\n",
    "optimum_network = NNOptimize()\n",
    "costFun = nn.MSELoss()\n",
    "opt = optim.Adam(optimum_network.parameters(), lr=0.01)"
   ]
  },
  {
   "cell_type": "code",
   "execution_count": 6,
   "id": "56b8801e",
   "metadata": {},
   "outputs": [],
   "source": [
    "def minimumRatio(w):\n",
    "    c = 0\n",
    "    t = 0\n",
    "    for x in w:\n",
    "        if(x>0):\n",
    "            c += 1\n",
    "        t +=1\n",
    "    return c/t"
   ]
  },
  {
   "cell_type": "code",
   "execution_count": 7,
   "id": "5f6a2ff7",
   "metadata": {},
   "outputs": [],
   "source": [
    "def calculate_gradient_fun(model):\n",
    "\n",
    "    g = []\n",
    "    for p in model.modules():\n",
    "        if isinstance(p, nn.Linear):\n",
    "            param_norm = p.weight.grad.norm(2).item()\n",
    "            g.append(param_norm)\n",
    "\n",
    "    g_mean = np.mean(g)\n",
    "    return g_mean"
   ]
  },
  {
   "cell_type": "code",
   "execution_count": 8,
   "id": "75e66cc0",
   "metadata": {},
   "outputs": [],
   "source": [
    "min_ratio = []\n",
    "l = []\n",
    "train_count = 100\n",
    "for i in range(train_count):\n",
    "    EPOCHS = 45\n",
    "    lss = 0\n",
    "    optimum_network = NNOptimize()\n",
    "    costFun = nn.MSELoss()\n",
    "    opt = optim.Adam(optimum_network.parameters(), lr=0.01)\n",
    "    for epochIndex in range(EPOCHS):\n",
    "        optimum_network.zero_grad()\n",
    "        output = optimum_network(simIn)\n",
    "        cost = costFun(output, groundTruth)\n",
    "        with torch.no_grad():\n",
    "            lss += (costFun(output, groundTruth))\n",
    "        cost.backward()\n",
    "        opt.step()\n",
    "    l.append(lss/len(simIn))\n",
    "    num_param = calculate_parameters(optimum_network)\n",
    "    \n",
    "    # Allocate Hessian size\n",
    "    H = torch.zeros((num_param, num_param))\n",
    "\n",
    "    y_hat = optimum_network(simIn)\n",
    "    y = simIn\n",
    "    loss  = ((y_hat - y)**2).mean()\n",
    "\n",
    "    J = torch.autograd.grad(loss, list(optimum_network.parameters()), create_graph=True)\n",
    "    J = torch.cat([e.flatten() for e in J]) # flatten\n",
    "\n",
    "    # Fill in Hessian\n",
    "    num_param = calculate_parameters(optimum_network)\n",
    "    for i in range(num_param):\n",
    "        result = torch.autograd.grad(J[i], list(optimum_network.parameters()), retain_graph=True)\n",
    "        H[i] = torch.cat([r.flatten() for r in result]) # flatten\n",
    "    w, v = np.linalg.eig(H)\n",
    "    min_ratio.append(minimumRatio(w))"
   ]
  },
  {
   "cell_type": "code",
   "execution_count": 9,
   "id": "715a437c",
   "metadata": {},
   "outputs": [
    {
     "data": {
      "text/plain": [
       "0.0943079696347316"
      ]
     },
     "execution_count": 9,
     "metadata": {},
     "output_type": "execute_result"
    }
   ],
   "source": [
    "calculate_gradient_fun(optimum_network)"
   ]
  },
  {
   "cell_type": "code",
   "execution_count": 10,
   "id": "148e82a4",
   "metadata": {},
   "outputs": [],
   "source": [
    "num_param = calculate_parameters(optimum_network)"
   ]
  },
  {
   "cell_type": "code",
   "execution_count": 11,
   "id": "71c49b76",
   "metadata": {},
   "outputs": [],
   "source": [
    "H = torch.zeros((num_param, num_param))\n",
    "\n",
    "y_hat = optimum_network(simIn)\n",
    "y = simIn\n",
    "loss  = ((y_hat - y)**2).mean()\n",
    "\n",
    "J = torch.autograd.grad(loss, list(optimum_network.parameters()), create_graph=True)\n",
    "J = torch.cat([e.flatten() for e in J])\n",
    "\n",
    "for i in range(num_param):\n",
    "    result = torch.autograd.grad(J[i], list(optimum_network.parameters()), retain_graph=True)\n",
    "    H[i] = torch.cat([r.flatten() for r in result])"
   ]
  },
  {
   "cell_type": "code",
   "execution_count": 12,
   "id": "ec5ac242",
   "metadata": {},
   "outputs": [
    {
     "data": {
      "text/plain": [
       "Text(0, 0.5, 'l')"
      ]
     },
     "execution_count": 12,
     "metadata": {},
     "output_type": "execute_result"
    },
    {
     "data": {
      "image/png": "[encoded data removed]",
      "text/plain": [
       "<Figure size 640x480 with 1 Axes>"
      ]
     },
     "metadata": {},
     "output_type": "display_data"
    }
   ],
   "source": [
    "plt.scatter(min_ratio, l)\n",
    "plt.xlabel('Minimal Ratio')\n",
    "plt.ylabel('l')"
   ]
  },
  {
   "cell_type": "code",
   "execution_count": null,
   "id": "570c3064",
   "metadata": {},
   "outputs": [],
   "source": []
  }
 ],
 "metadata": {
  "kernelspec": {
   "display_name": "Python 3 (ipykernel)",
   "language": "python",
   "name": "python3"
  },
  "language_info": {
   "codemirror_mode": {
    "name": "ipython",
    "version": 3
   },
   "file_extension": ".py",
   "mimetype": "text/x-python",
   "name": "python",
   "nbconvert_exporter": "python",
   "pygments_lexer": "ipython3",
   "version": "3.10.9"
  }
 },
 "nbformat": 4,
 "nbformat_minor": 5
}
